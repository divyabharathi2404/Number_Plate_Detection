{
  "nbformat": 4,
  "nbformat_minor": 0,
  "metadata": {
    "colab": {
      "name": "detection.ipynb",
      "provenance": [],
      "include_colab_link": true
    },
    "kernelspec": {
      "name": "python3",
      "display_name": "Python 3"
    }
  },
  "cells": [
    {
      "cell_type": "markdown",
      "metadata": {
        "id": "view-in-github",
        "colab_type": "text"
      },
      "source": [
        "<a href=\"https://colab.research.google.com/github/divyabharathi2404/Number_Plate_Detection/blob/master/detection.ipynb\" target=\"_parent\"><img src=\"https://colab.research.google.com/assets/colab-badge.svg\" alt=\"Open In Colab\"/></a>"
      ]
    },
    {
      "cell_type": "code",
      "metadata": {
        "id": "_EYbnUlfsQo_",
        "colab_type": "code",
        "outputId": "ae31c98c-e9d2-450d-e457-d2f6355a74e1",
        "colab": {
          "base_uri": "https://localhost:8080/",
          "height": 34
        }
      },
      "source": [
        "import pandas as pd\n",
        "import urllib\n",
        "import matplotlib.pyplot as plt\n",
        "import numpy as np\n",
        "import cv2\n",
        "import glob\n",
        "import os\n",
        "import time\n",
        "from PIL import Image\n",
        "\n",
        "from keras.applications.vgg16 import VGG16\n",
        "from keras.layers import Flatten, Dense, Conv2D, MaxPooling2D, Input, Dropout\n",
        "from keras.models import Model, Sequential\n",
        "from keras.preprocessing.image import ImageDataGenerator\n",
        "from keras.optimizers import Adam"
      ],
      "execution_count": 0,
      "outputs": [
        {
          "output_type": "stream",
          "text": [
            "Using TensorFlow backend.\n"
          ],
          "name": "stderr"
        }
      ]
    },
    {
      "cell_type": "code",
      "metadata": {
        "id": "qSizEggWvAM8",
        "colab_type": "code",
        "colab": {}
      },
      "source": [
        "data = pd.read_json(\"Indian_Number_plates.json\", lines=True)\n",
        "#pd.set_option('display.max_colwidth', -1)\n",
        "\n",
        "print(data)"
      ],
      "execution_count": 0,
      "outputs": []
    },
    {
      "cell_type": "code",
      "metadata": {
        "id": "TK4ENrMp4eNK",
        "colab_type": "code",
        "colab": {}
      },
      "source": [
        "data['points'] = data.apply(lambda row: row['annotation'][0]['points'], axis=1) \n",
        "data['imageWidth'] = data.apply(lambda row: row['annotation'][0]['imageWidth'], axis=1) \n",
        "data['imageHeight'] = data.apply(lambda row: row['annotation'][0]['imageHeight'], axis=1)\n",
        "del data['annotation']"
      ],
      "execution_count": 0,
      "outputs": []
    },
    {
      "cell_type": "code",
      "metadata": {
        "id": "4ozwvmUEBe_3",
        "colab_type": "code",
        "colab": {}
      },
      "source": [
        "\n",
        "del data['extras']"
      ],
      "execution_count": 0,
      "outputs": []
    },
    {
      "cell_type": "code",
      "metadata": {
        "id": "elRN9VCSP1wM",
        "colab_type": "code",
        "outputId": "83bb2531-173e-4ed6-afa7-656b219f83b8",
        "colab": {
          "base_uri": "https://localhost:8080/",
          "height": 54
        }
      },
      "source": [
        "print(data['content'][23])"
      ],
      "execution_count": 0,
      "outputs": [
        {
          "output_type": "stream",
          "text": [
            "http://com.dataturks.a96-i23.open.s3.amazonaws.com/2c9fafb0646e9cf9016473f1a561002a/422aaf6f-dd4a-450f-ac6b-65966ab512d0___1431956d1446017445-number-plates-merchandise-canvas-ink-gurgaon-edit-closed-thumb_img_4418_1024.jpg.jpeg\n"
          ],
          "name": "stdout"
        }
      ]
    },
    {
      "cell_type": "code",
      "metadata": {
        "id": "is5ipsxCBQaa",
        "colab_type": "code",
        "outputId": "8b40ed43-c371-4c31-e113-d3b29f7f5d0f",
        "colab": {
          "base_uri": "https://localhost:8080/",
          "height": 204
        }
      },
      "source": [
        "data.head()"
      ],
      "execution_count": 0,
      "outputs": [
        {
          "output_type": "execute_result",
          "data": {
            "text/html": [
              "<div>\n",
              "<style scoped>\n",
              "    .dataframe tbody tr th:only-of-type {\n",
              "        vertical-align: middle;\n",
              "    }\n",
              "\n",
              "    .dataframe tbody tr th {\n",
              "        vertical-align: top;\n",
              "    }\n",
              "\n",
              "    .dataframe thead th {\n",
              "        text-align: right;\n",
              "    }\n",
              "</style>\n",
              "<table border=\"1\" class=\"dataframe\">\n",
              "  <thead>\n",
              "    <tr style=\"text-align: right;\">\n",
              "      <th></th>\n",
              "      <th>content</th>\n",
              "      <th>points</th>\n",
              "      <th>imageWidth</th>\n",
              "      <th>imageHeight</th>\n",
              "    </tr>\n",
              "  </thead>\n",
              "  <tbody>\n",
              "    <tr>\n",
              "      <th>0</th>\n",
              "      <td>http://com.dataturks.a96-i23.open.s3.amazonaws...</td>\n",
              "      <td>[{'x': 0.722084367245657, 'y': 0.5879828326180...</td>\n",
              "      <td>806</td>\n",
              "      <td>466</td>\n",
              "    </tr>\n",
              "    <tr>\n",
              "      <th>1</th>\n",
              "      <td>http://com.dataturks.a96-i23.open.s3.amazonaws...</td>\n",
              "      <td>[{'x': 0.16194331983805602, 'y': 0.85077951002...</td>\n",
              "      <td>494</td>\n",
              "      <td>449</td>\n",
              "    </tr>\n",
              "    <tr>\n",
              "      <th>2</th>\n",
              "      <td>http://com.dataturks.a96-i23.open.s3.amazonaws...</td>\n",
              "      <td>[{'x': 0.082, 'y': 0.697452229299363}, {'x': 0...</td>\n",
              "      <td>500</td>\n",
              "      <td>314</td>\n",
              "    </tr>\n",
              "    <tr>\n",
              "      <th>3</th>\n",
              "      <td>http://com.dataturks.a96-i23.open.s3.amazonaws...</td>\n",
              "      <td>[{'x': 0.434, 'y': 0.667377398720682}, {'x': 0...</td>\n",
              "      <td>500</td>\n",
              "      <td>469</td>\n",
              "    </tr>\n",
              "    <tr>\n",
              "      <th>4</th>\n",
              "      <td>http://com.dataturks.a96-i23.open.s3.amazonaws...</td>\n",
              "      <td>[{'x': 0.20879120879120802, 'y': 0.39076376554...</td>\n",
              "      <td>1001</td>\n",
              "      <td>563</td>\n",
              "    </tr>\n",
              "  </tbody>\n",
              "</table>\n",
              "</div>"
            ],
            "text/plain": [
              "                                             content  ... imageHeight\n",
              "0  http://com.dataturks.a96-i23.open.s3.amazonaws...  ...         466\n",
              "1  http://com.dataturks.a96-i23.open.s3.amazonaws...  ...         449\n",
              "2  http://com.dataturks.a96-i23.open.s3.amazonaws...  ...         314\n",
              "3  http://com.dataturks.a96-i23.open.s3.amazonaws...  ...         469\n",
              "4  http://com.dataturks.a96-i23.open.s3.amazonaws...  ...         563\n",
              "\n",
              "[5 rows x 4 columns]"
            ]
          },
          "metadata": {
            "tags": []
          },
          "execution_count": 33
        }
      ]
    },
    {
      "cell_type": "code",
      "metadata": {
        "id": "NyNTmlKA143e",
        "colab_type": "code",
        "colab": {}
      },
      "source": [
        "dataset = dict()\n",
        "dataset[\"image_name\"] = list()\n",
        "dataset[\"image_width\"] = list()\n",
        "dataset[\"image_height\"] = list()\n",
        "dataset[\"top_x\"] = list()\n",
        "dataset[\"top_y\"] = list()\n",
        "dataset[\"bottom_x\"] = list()\n",
        "dataset[\"bottom_y\"] = list()"
      ],
      "execution_count": 0,
      "outputs": []
    },
    {
      "cell_type": "code",
      "metadata": {
        "id": "rEGK0cwP17ed",
        "colab_type": "code",
        "outputId": "4106ecf3-be6d-416d-b30f-93e7ba498738",
        "colab": {
          "base_uri": "https://localhost:8080/",
          "height": 34
        }
      },
      "source": [
        "counter = 0\n",
        "for index, row in data.iterrows():\n",
        "    img = urllib.request.urlopen(row[\"content\"])\n",
        "    img = Image.open(img)\n",
        "    img = img.convert('RGB')\n",
        "    img.save(\"car{}.jpeg\".format(counter), \"JPEG\")\n",
        "    \n",
        "    dataset[\"image_name\"].append(\"car{}.jpeg\".format(counter))\n",
        "    \n",
        "    dataset[\"image_width\"].append(row[\"imageWidth\"])\n",
        "    dataset[\"image_height\"].append(row[\"imageHeight\"])\n",
        "    dataset[\"top_x\"].append(row[\"points\"][0][\"x\"])\n",
        "    dataset[\"top_y\"].append(row[\"points\"][0][\"y\"])\n",
        "    dataset[\"bottom_x\"].append(row[\"points\"][1][\"x\"])\n",
        "    dataset[\"bottom_y\"].append(row[\"points\"][1][\"y\"])\n",
        "    \n",
        "    counter += 1\n",
        "print(\"Downloaded {} car images.\".format(counter))"
      ],
      "execution_count": 0,
      "outputs": [
        {
          "output_type": "stream",
          "text": [
            "Downloaded 237 car images.\n"
          ],
          "name": "stdout"
        }
      ]
    },
    {
      "cell_type": "code",
      "metadata": {
        "id": "akOLFqFX5zIY",
        "colab_type": "code",
        "outputId": "1975a938-7891-4f8b-8b2c-ed88451d420a",
        "colab": {
          "base_uri": "https://localhost:8080/",
          "height": 204
        }
      },
      "source": [
        "df = pd.DataFrame(dataset)\n",
        "df.head()"
      ],
      "execution_count": 0,
      "outputs": [
        {
          "output_type": "execute_result",
          "data": {
            "text/html": [
              "<div>\n",
              "<style scoped>\n",
              "    .dataframe tbody tr th:only-of-type {\n",
              "        vertical-align: middle;\n",
              "    }\n",
              "\n",
              "    .dataframe tbody tr th {\n",
              "        vertical-align: top;\n",
              "    }\n",
              "\n",
              "    .dataframe thead th {\n",
              "        text-align: right;\n",
              "    }\n",
              "</style>\n",
              "<table border=\"1\" class=\"dataframe\">\n",
              "  <thead>\n",
              "    <tr style=\"text-align: right;\">\n",
              "      <th></th>\n",
              "      <th>image_name</th>\n",
              "      <th>image_width</th>\n",
              "      <th>image_height</th>\n",
              "      <th>top_x</th>\n",
              "      <th>top_y</th>\n",
              "      <th>bottom_x</th>\n",
              "      <th>bottom_y</th>\n",
              "    </tr>\n",
              "  </thead>\n",
              "  <tbody>\n",
              "    <tr>\n",
              "      <th>0</th>\n",
              "      <td>car0.jpeg</td>\n",
              "      <td>806</td>\n",
              "      <td>466</td>\n",
              "      <td>0.722084</td>\n",
              "      <td>0.587983</td>\n",
              "      <td>0.868486</td>\n",
              "      <td>0.688841</td>\n",
              "    </tr>\n",
              "    <tr>\n",
              "      <th>1</th>\n",
              "      <td>car1.jpeg</td>\n",
              "      <td>494</td>\n",
              "      <td>449</td>\n",
              "      <td>0.161943</td>\n",
              "      <td>0.850780</td>\n",
              "      <td>0.582996</td>\n",
              "      <td>1.000000</td>\n",
              "    </tr>\n",
              "    <tr>\n",
              "      <th>2</th>\n",
              "      <td>car2.jpeg</td>\n",
              "      <td>500</td>\n",
              "      <td>314</td>\n",
              "      <td>0.082000</td>\n",
              "      <td>0.697452</td>\n",
              "      <td>0.230000</td>\n",
              "      <td>0.828025</td>\n",
              "    </tr>\n",
              "    <tr>\n",
              "      <th>3</th>\n",
              "      <td>car3.jpeg</td>\n",
              "      <td>500</td>\n",
              "      <td>469</td>\n",
              "      <td>0.434000</td>\n",
              "      <td>0.667377</td>\n",
              "      <td>0.718000</td>\n",
              "      <td>0.765458</td>\n",
              "    </tr>\n",
              "    <tr>\n",
              "      <th>4</th>\n",
              "      <td>car4.jpeg</td>\n",
              "      <td>1001</td>\n",
              "      <td>563</td>\n",
              "      <td>0.208791</td>\n",
              "      <td>0.390764</td>\n",
              "      <td>0.865135</td>\n",
              "      <td>0.984014</td>\n",
              "    </tr>\n",
              "  </tbody>\n",
              "</table>\n",
              "</div>"
            ],
            "text/plain": [
              "  image_name  image_width  image_height     top_x     top_y  bottom_x  bottom_y\n",
              "0  car0.jpeg          806           466  0.722084  0.587983  0.868486  0.688841\n",
              "1  car1.jpeg          494           449  0.161943  0.850780  0.582996  1.000000\n",
              "2  car2.jpeg          500           314  0.082000  0.697452  0.230000  0.828025\n",
              "3  car3.jpeg          500           469  0.434000  0.667377  0.718000  0.765458\n",
              "4  car4.jpeg         1001           563  0.208791  0.390764  0.865135  0.984014"
            ]
          },
          "metadata": {
            "tags": []
          },
          "execution_count": 36
        }
      ]
    },
    {
      "cell_type": "code",
      "metadata": {
        "id": "gjCxwbOq-DIr",
        "colab_type": "code",
        "colab": {}
      },
      "source": [
        "df.to_csv(\"indian_license_plates.csv\", index=False)"
      ],
      "execution_count": 0,
      "outputs": []
    },
    {
      "cell_type": "code",
      "metadata": {
        "id": "tSqyeJD2IE5g",
        "colab_type": "code",
        "colab": {}
      },
      "source": [
        "lucky_test_samples = np.random.randint(0, len(df), 5)\n",
        "reduced_df = df.drop(lucky_test_samples, axis=0)"
      ],
      "execution_count": 0,
      "outputs": []
    },
    {
      "cell_type": "code",
      "metadata": {
        "id": "mnaNijgyIIiW",
        "colab_type": "code",
        "outputId": "c8cdbff8-0489-4e02-b8fa-58db0453a64f",
        "colab": {
          "base_uri": "https://localhost:8080/",
          "height": 204
        }
      },
      "source": [
        "reduced_df.head()"
      ],
      "execution_count": 0,
      "outputs": [
        {
          "output_type": "execute_result",
          "data": {
            "text/html": [
              "<div>\n",
              "<style scoped>\n",
              "    .dataframe tbody tr th:only-of-type {\n",
              "        vertical-align: middle;\n",
              "    }\n",
              "\n",
              "    .dataframe tbody tr th {\n",
              "        vertical-align: top;\n",
              "    }\n",
              "\n",
              "    .dataframe thead th {\n",
              "        text-align: right;\n",
              "    }\n",
              "</style>\n",
              "<table border=\"1\" class=\"dataframe\">\n",
              "  <thead>\n",
              "    <tr style=\"text-align: right;\">\n",
              "      <th></th>\n",
              "      <th>image_name</th>\n",
              "      <th>image_width</th>\n",
              "      <th>image_height</th>\n",
              "      <th>top_x</th>\n",
              "      <th>top_y</th>\n",
              "      <th>bottom_x</th>\n",
              "      <th>bottom_y</th>\n",
              "    </tr>\n",
              "  </thead>\n",
              "  <tbody>\n",
              "    <tr>\n",
              "      <th>0</th>\n",
              "      <td>car0.jpeg</td>\n",
              "      <td>806</td>\n",
              "      <td>466</td>\n",
              "      <td>0.722084</td>\n",
              "      <td>0.587983</td>\n",
              "      <td>0.868486</td>\n",
              "      <td>0.688841</td>\n",
              "    </tr>\n",
              "    <tr>\n",
              "      <th>1</th>\n",
              "      <td>car1.jpeg</td>\n",
              "      <td>494</td>\n",
              "      <td>449</td>\n",
              "      <td>0.161943</td>\n",
              "      <td>0.850780</td>\n",
              "      <td>0.582996</td>\n",
              "      <td>1.000000</td>\n",
              "    </tr>\n",
              "    <tr>\n",
              "      <th>2</th>\n",
              "      <td>car2.jpeg</td>\n",
              "      <td>500</td>\n",
              "      <td>314</td>\n",
              "      <td>0.082000</td>\n",
              "      <td>0.697452</td>\n",
              "      <td>0.230000</td>\n",
              "      <td>0.828025</td>\n",
              "    </tr>\n",
              "    <tr>\n",
              "      <th>3</th>\n",
              "      <td>car3.jpeg</td>\n",
              "      <td>500</td>\n",
              "      <td>469</td>\n",
              "      <td>0.434000</td>\n",
              "      <td>0.667377</td>\n",
              "      <td>0.718000</td>\n",
              "      <td>0.765458</td>\n",
              "    </tr>\n",
              "    <tr>\n",
              "      <th>4</th>\n",
              "      <td>car4.jpeg</td>\n",
              "      <td>1001</td>\n",
              "      <td>563</td>\n",
              "      <td>0.208791</td>\n",
              "      <td>0.390764</td>\n",
              "      <td>0.865135</td>\n",
              "      <td>0.984014</td>\n",
              "    </tr>\n",
              "  </tbody>\n",
              "</table>\n",
              "</div>"
            ],
            "text/plain": [
              "  image_name  image_width  image_height     top_x     top_y  bottom_x  bottom_y\n",
              "0  car0.jpeg          806           466  0.722084  0.587983  0.868486  0.688841\n",
              "1  car1.jpeg          494           449  0.161943  0.850780  0.582996  1.000000\n",
              "2  car2.jpeg          500           314  0.082000  0.697452  0.230000  0.828025\n",
              "3  car3.jpeg          500           469  0.434000  0.667377  0.718000  0.765458\n",
              "4  car4.jpeg         1001           563  0.208791  0.390764  0.865135  0.984014"
            ]
          },
          "metadata": {
            "tags": []
          },
          "execution_count": 38
        }
      ]
    },
    {
      "cell_type": "code",
      "metadata": {
        "id": "5i4pCFHD_izv",
        "colab_type": "code",
        "colab": {}
      },
      "source": [
        "WIDTH = 224\n",
        "HEIGHT = 224\n",
        "CHANNEL = 3\n",
        "\n",
        "def show_img(index):\n",
        "    image = cv2.imread(df[\"image_name\"].iloc[index])\n",
        "    image = cv2.cvtColor(image, cv2.COLOR_BGR2RGB)\n",
        "    image = cv2.resize(image, dsize=(WIDTH, HEIGHT))\n",
        "\n",
        "    tx = int(df[\"top_x\"].iloc[index] * WIDTH)\n",
        "    ty = int(df[\"top_y\"].iloc[index] * HEIGHT)\n",
        "    bx = int(df[\"bottom_x\"].iloc[index] * WIDTH)\n",
        "    by = int(df[\"bottom_y\"].iloc[index] * HEIGHT)\n",
        "\n",
        "    image = cv2.rectangle(image, (tx, ty), (bx, by), (0, 0, 255), 1)\n",
        "    plt.imshow(image)\n",
        "    plt.show()"
      ],
      "execution_count": 0,
      "outputs": []
    },
    {
      "cell_type": "code",
      "metadata": {
        "id": "bu-7o7HnB_hL",
        "colab_type": "code",
        "outputId": "d31b98e7-98e3-4ad9-8796-1d3bfca3cc71",
        "colab": {
          "base_uri": "https://localhost:8080/",
          "height": 269
        }
      },
      "source": [
        "show_img(100)"
      ],
      "execution_count": 0,
      "outputs": [
        {
          "output_type": "display_data",
          "data": {
            "image/png": "[encoded data removed]",
            "text/plain": [
              "<Figure size 432x288 with 1 Axes>"
            ]
          },
          "metadata": {
            "tags": []
          }
        }
      ]
    },
    {
      "cell_type": "code",
      "metadata": {
        "id": "wvXJn3A6HdP6",
        "colab_type": "code",
        "outputId": "b61bca13-52c6-4d3f-b4eb-4d09627c24b1",
        "colab": {
          "base_uri": "https://localhost:8080/",
          "height": 51
        }
      },
      "source": [
        "datagen = ImageDataGenerator(rescale=1./255, validation_split=0.1)\n",
        "\n",
        "train_generator = datagen.flow_from_dataframe(\n",
        "    reduced_df,\n",
        "    directory=\"\",\n",
        "    x_col=\"image_name\",\n",
        "    y_col=[\"top_x\", \"top_y\", \"bottom_x\", \"bottom_y\"],\n",
        "    target_size=(WIDTH, HEIGHT),\n",
        "    batch_size=32, \n",
        "    class_mode=\"other\",\n",
        "    subset=\"training\")\n",
        "\n",
        "validation_generator = datagen.flow_from_dataframe(\n",
        "    reduced_df,\n",
        "    directory=\"\",\n",
        "    x_col=\"image_name\",\n",
        "    y_col=[\"top_x\", \"top_y\", \"bottom_x\", \"bottom_y\"],\n",
        "    target_size=(WIDTH, HEIGHT),\n",
        "    batch_size=32, \n",
        "    class_mode=\"other\",\n",
        "    subset=\"validation\")"
      ],
      "execution_count": 0,
      "outputs": [
        {
          "output_type": "stream",
          "text": [
            "Found 209 validated image filenames.\n",
            "Found 23 validated image filenames.\n"
          ],
          "name": "stdout"
        }
      ]
    }
  ]
}